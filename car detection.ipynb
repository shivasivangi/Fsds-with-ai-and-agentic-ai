{
 "cells": [
  {
   "cell_type": "code",
   "execution_count": null,
   "id": "e87d37bb-5bf5-4d12-894b-7f19e591208e",
   "metadata": {},
   "outputs": [
    {
     "name": "stdout",
     "output_type": "stream",
     "text": [
      "Detected 0 vehicles.\n"
     ]
    }
   ],
   "source": [
    "import cv2\n",
    "import sys\n",
    "import numpy as np\n",
    "\n",
    "# Path to cascade and image\n",
    "CASCADE_PATH = r\"C:\\Users\\SHIVA\\Downloads\\13th- Haar cascade classifier\\Haarcascades\\haarcascade_car.xml\"  # change to full path if needed\n",
    "IMAGE_PATH =r\"C:\\Users\\SHIVA\\Downloads\\5cars.jpg\"     # your image file\n",
    "\n",
    "# Load cascade\n",
    "car_cascade = cv2.CascadeClassifier(CASCADE_PATH)\n",
    "if car_cascade.empty():\n",
    "    print(\"ERROR: failed to load cascade. Check CASCADE_PATH.\")\n",
    "    sys.exit(1)\n",
    "\n",
    "# Read image and convert to grayscale\n",
    "img = cv2.imread(IMAGE_PATH)\n",
    "if img is None:\n",
    "    print(\"ERROR: failed to read image. Check IMAGE_PATH.\")\n",
    "    sys.exit(1)\n",
    "\n",
    "# Resize image if it's too large (optional but can improve detection)\n",
    "height, width = img.shape[:2]\n",
    "if width > 1000:\n",
    "    scaling_factor = 1000 / width\n",
    "    img = cv2.resize(img, None, fx=scaling_factor, fy=scaling_factor, interpolation=cv2.INTER_AREA)\n",
    "\n",
    "# Convert to grayscale\n",
    "gray = cv2.cvtColor(img, cv2.COLOR_BGR2GRAY)\n",
    "\n",
    "# Apply histogram equalization to improve contrast\n",
    "gray = cv2.equalizeHist(gray)\n",
    "\n",
    "# Try different parameters for better detection\n",
    "cars = car_cascade.detectMultiScale(\n",
    "    gray,\n",
    "    scaleFactor=1.1,     # try values between 1.01-1.5\n",
    "    minNeighbors=5,      # try values between 3-6\n",
    "    minSize=(30, 30),    # adjust based on expected car size\n",
    "    maxSize=(400, 400)   # maximum size limit\n",
    ")\n",
    "\n",
    "# Draw rectangles and label each car\n",
    "for i, (x, y, w, h) in enumerate(cars):\n",
    "    cv2.rectangle(img, (x, y), (x+w, y+h), (0, 255, 0), 2)\n",
    "    # Add car number label\n",
    "    cv2.putText(img, f'Car #{i+1}', (x, y-10), cv2.FONT_HERSHEY_SIMPLEX, 0.7, (0, 255, 0), 2)\n",
    "\n",
    "# Print detection results\n",
    "print(f\"Detected {len(cars)} vehicles.\")\n",
    "\n",
    "# Display image with a reasonable window size\n",
    "cv2.namedWindow('Cars', cv2.WINDOW_NORMAL)\n",
    "cv2.imshow('Cars', img)\n",
    "cv2.waitKey(0)\n",
    "cv2.destroyAllWindows()\n",
    "\n",
    "# Save the output image (optional)\n",
    "cv2.imwrite('detected_cars.jpg', img)"
   ]
  },
  {
   "cell_type": "code",
   "execution_count": null,
   "id": "ca323d68-0cfb-4f64-a8ae-c67499c3e622",
   "metadata": {},
   "outputs": [],
   "source": []
  },
  {
   "cell_type": "code",
   "execution_count": null,
   "id": "4d919106-0f0b-4192-bdfc-640dbec67274",
   "metadata": {},
   "outputs": [],
   "source": []
  },
  {
   "cell_type": "code",
   "execution_count": null,
   "id": "09eacc61-ac5b-4678-ae18-4d4fd7717aa7",
   "metadata": {},
   "outputs": [],
   "source": []
  },
  {
   "cell_type": "code",
   "execution_count": null,
   "id": "e73416fb-4c09-4909-b5bc-a25ef969f487",
   "metadata": {},
   "outputs": [],
   "source": []
  },
  {
   "cell_type": "code",
   "execution_count": null,
   "id": "de40041b-6fdd-4b73-b271-706dd1b37789",
   "metadata": {},
   "outputs": [],
   "source": []
  }
 ],
 "metadata": {
  "kernelspec": {
   "display_name": "Python [conda env:base] *",
   "language": "python",
   "name": "conda-base-py"
  },
  "language_info": {
   "codemirror_mode": {
    "name": "ipython",
    "version": 3
   },
   "file_extension": ".py",
   "mimetype": "text/x-python",
   "name": "python",
   "nbconvert_exporter": "python",
   "pygments_lexer": "ipython3",
   "version": "3.13.5"
  }
 },
 "nbformat": 4,
 "nbformat_minor": 5
}
