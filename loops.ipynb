{
 "cells": [
  {
   "cell_type": "code",
   "execution_count": 1,
   "id": "8607cb56-e33a-4456-9e09-66fdcf1a949e",
   "metadata": {},
   "outputs": [
    {
     "name": "stdout",
     "output_type": "stream",
     "text": [
      "data science\n",
      "data science\n",
      "data science\n",
      "data science\n",
      "data science\n"
     ]
    }
   ],
   "source": [
    "i=1                     #initializing\n",
    "\n",
    "while i<=5:       # condition\n",
    "    print(\"data science\")\n",
    "    i=i+1"
   ]
  },
  {
   "cell_type": "code",
   "execution_count": 2,
   "id": "188e04e1-2f84-40d1-8de6-16b790bc8c6e",
   "metadata": {},
   "outputs": [
    {
     "name": "stdout",
     "output_type": "stream",
     "text": [
      "data science\n",
      "data science\n",
      "data science\n",
      "data science\n",
      "data science\n"
     ]
    }
   ],
   "source": [
    "i=5                 #initializing\n",
    "\n",
    "while i>=1:       # condition\n",
    "    print(\"data science\")\n",
    "    i=i-1"
   ]
  },
  {
   "cell_type": "code",
   "execution_count": 3,
   "id": "fc664547-0bdc-4ac0-92ed-9b870db30dcc",
   "metadata": {},
   "outputs": [
    {
     "name": "stdout",
     "output_type": "stream",
     "text": [
      "data science 1\n",
      "data science 2\n",
      "data science 3\n",
      "data science 4\n",
      "data science 5\n"
     ]
    }
   ],
   "source": [
    "i=1                     #initializing\n",
    "\n",
    "while i<=5:       # condition\n",
    "    print(\"data science\",i)\n",
    "    i=i+1"
   ]
  },
  {
   "cell_type": "code",
   "execution_count": 5,
   "id": "285d4d88-cf6e-4350-91f2-d1114cb0f3c0",
   "metadata": {},
   "outputs": [
    {
     "name": "stdout",
     "output_type": "stream",
     "text": [
      "data science 5\n",
      "data science 4\n",
      "data science 3\n",
      "data science 2\n",
      "data science 1\n"
     ]
    }
   ],
   "source": [
    "i=5                 #initializing\n",
    "\n",
    "while i>=1:       # condition\n",
    "    print(\"data science\",i)\n",
    "    i=i-1"
   ]
  },
  {
   "cell_type": "code",
   "execution_count": 21,
   "id": "9937d613-5ae4-4f93-8454-e06b0930b16a",
   "metadata": {},
   "outputs": [
    {
     "name": "stdout",
     "output_type": "stream",
     "text": [
      "data science\n",
      "technology\n",
      "technology\n",
      "technology\n",
      "technology\n",
      "\n",
      "data science\n",
      "technology\n",
      "technology\n",
      "technology\n",
      "technology\n",
      "\n",
      "data science\n",
      "technology\n",
      "technology\n",
      "technology\n",
      "technology\n",
      "\n",
      "data science\n",
      "technology\n",
      "technology\n",
      "technology\n",
      "technology\n",
      "\n",
      "data science\n",
      "technology\n",
      "technology\n",
      "technology\n",
      "technology\n",
      "\n"
     ]
    }
   ],
   "source": [
    "i=1\n",
    "while i<=5:\n",
    "    print(\"data science\")\n",
    "    j=1\n",
    "    while j<=4:\n",
    "        print(\"technology\")\n",
    "        j=j+1\n",
    "    i=i+1\n",
    "    print()"
   ]
  },
  {
   "cell_type": "code",
   "execution_count": 26,
   "id": "7b9d346d-7cd3-433e-a0e4-886c15297e24",
   "metadata": {},
   "outputs": [
    {
     "name": "stdout",
     "output_type": "stream",
     "text": [
      "data science technology technology technology technology \n",
      "data science technology technology technology technology \n",
      "data science technology technology technology technology \n",
      "data science technology technology technology technology \n",
      "data science technology technology technology technology \n"
     ]
    }
   ],
   "source": [
    "i=1\n",
    "while i<=5:\n",
    "    print(\"data science\",end=\" \")\n",
    "    j=1\n",
    "    while j<=4:\n",
    "        print(\"technology\",end=\" \" )\n",
    "        j=j+1\n",
    "    i=i+1\n",
    "    print()"
   ]
  },
  {
   "cell_type": "code",
   "execution_count": 27,
   "id": "201baa97-4efc-45c8-b6f6-7394ad684d49",
   "metadata": {},
   "outputs": [
    {
     "name": "stdout",
     "output_type": "stream",
     "text": [
      "0 \n",
      "2 \n",
      "6 \n",
      "12 \n"
     ]
    }
   ],
   "source": [
    "i=1 \n",
    "while i<=4 :\n",
    "    j=0\n",
    "    while j<=3:\n",
    "        print(i*j,end=\" \")\n",
    "        j+= 1\n",
    "        print()\n",
    "        i=i+1"
   ]
  },
  {
   "cell_type": "markdown",
   "id": "03aced7f-5cd4-48ea-a64c-74811eefb227",
   "metadata": {},
   "source": [
    "for loop"
   ]
  },
  {
   "cell_type": "code",
   "execution_count": 28,
   "id": "c77235cb-3a89-4763-b7ef-5b6f73ee276a",
   "metadata": {},
   "outputs": [
    {
     "name": "stdout",
     "output_type": "stream",
     "text": [
      "n\n",
      "i\n",
      "t\n"
     ]
    }
   ],
   "source": [
    "name=\"nit\"\n",
    "for i in name :\n",
    "    print(i)"
   ]
  },
  {
   "cell_type": "code",
   "execution_count": 30,
   "id": "f6b3cce7-c984-4f97-a01b-82cd10549a12",
   "metadata": {},
   "outputs": [
    {
     "name": "stdout",
     "output_type": "stream",
     "text": [
      "1\n",
      "2\n",
      "3\n",
      "4\n",
      "hello\n"
     ]
    }
   ],
   "source": [
    "name1=[1,2,3,4,\"hello\"]\n",
    "for i in name1:\n",
    "    print(i)"
   ]
  },
  {
   "cell_type": "code",
   "execution_count": 32,
   "id": "0128385a-4ff3-41ff-acb8-1137d115e459",
   "metadata": {},
   "outputs": [
    {
     "name": "stdout",
     "output_type": "stream",
     "text": [
      "1\n",
      "9\n",
      "4\n",
      "5\n",
      "hi\n"
     ]
    }
   ],
   "source": [
    "for i in [1,9,4,5,\"hi\"]: print(i)"
   ]
  },
  {
   "cell_type": "code",
   "execution_count": 33,
   "id": "14cb05e7-f19d-4d2d-a87f-9a63f5027641",
   "metadata": {},
   "outputs": [
    {
     "data": {
      "text/plain": [
       "range(0, 5)"
      ]
     },
     "execution_count": 33,
     "metadata": {},
     "output_type": "execute_result"
    }
   ],
   "source": [
    "range(5)"
   ]
  },
  {
   "cell_type": "raw",
   "id": "a2382866-afe7-4d7c-b94b-bd6fcebcd75c",
   "metadata": {},
   "source": []
  },
  {
   "cell_type": "code",
   "execution_count": 34,
   "id": "1365b4ba-9d68-443f-8aff-51fd79978198",
   "metadata": {},
   "outputs": [
    {
     "name": "stdout",
     "output_type": "stream",
     "text": [
      "0\n",
      "1\n",
      "2\n",
      "3\n",
      "4\n",
      "5\n",
      "6\n",
      "7\n",
      "8\n",
      "9\n"
     ]
    }
   ],
   "source": [
    "for i in range(10):\n",
    "    print(i)"
   ]
  },
  {
   "cell_type": "code",
   "execution_count": 35,
   "id": "a4ea8721-0ff3-4086-be16-c187ed0875a9",
   "metadata": {},
   "outputs": [
    {
     "name": "stdout",
     "output_type": "stream",
     "text": [
      "2\n",
      "3\n",
      "4\n",
      "5\n",
      "6\n",
      "7\n",
      "8\n"
     ]
    }
   ],
   "source": [
    "for i in range(2,9):\n",
    "    print(i)"
   ]
  },
  {
   "cell_type": "code",
   "execution_count": 36,
   "id": "9bf5e1a5-a2b2-41b4-adf1-4b741a70bad6",
   "metadata": {},
   "outputs": [
    {
     "name": "stdout",
     "output_type": "stream",
     "text": [
      "1\n",
      "4\n",
      "7\n"
     ]
    }
   ],
   "source": [
    "for i in range(1,10,3):\n",
    "    print(i)"
   ]
  },
  {
   "cell_type": "code",
   "execution_count": 37,
   "id": "66600d2d-9827-4e88-9bb9-76cdfeae76e5",
   "metadata": {},
   "outputs": [
    {
     "name": "stdout",
     "output_type": "stream",
     "text": [
      "1\n",
      "2\n",
      "3\n",
      "4\n",
      "5\n",
      "6\n",
      "7\n",
      "8\n",
      "9\n",
      "10\n",
      "11\n",
      "12\n",
      "13\n",
      "14\n",
      "15\n",
      "16\n",
      "17\n",
      "18\n",
      "19\n",
      "20\n"
     ]
    }
   ],
   "source": [
    "for i in range(1,21):\n",
    "    print(i)"
   ]
  },
  {
   "cell_type": "markdown",
   "id": "ec140799-7df0-4dc2-9412-11176fbba1a0",
   "metadata": {},
   "source": [
    "divisible by 5"
   ]
  },
  {
   "cell_type": "code",
   "execution_count": 38,
   "id": "acaaf58a-aa6f-4823-9847-7d5a79f161f8",
   "metadata": {},
   "outputs": [
    {
     "name": "stdout",
     "output_type": "stream",
     "text": [
      "5\n",
      "10\n",
      "15\n",
      "20\n",
      "25\n",
      "30\n",
      "35\n",
      "40\n",
      "45\n",
      "50\n"
     ]
    }
   ],
   "source": [
    "for i in range(1,51):\n",
    "    if i%5==0:\n",
    "        print(i)"
   ]
  },
  {
   "cell_type": "markdown",
   "id": "4256c019-4385-42e3-a65a-4635d0bfa4c2",
   "metadata": {},
   "source": [
    "divisible by 3"
   ]
  },
  {
   "cell_type": "code",
   "execution_count": 39,
   "id": "ea02e443-22db-4b4c-bd97-491cabe7f45f",
   "metadata": {},
   "outputs": [
    {
     "name": "stdout",
     "output_type": "stream",
     "text": [
      "3\n",
      "6\n",
      "9\n",
      "12\n",
      "15\n",
      "18\n",
      "21\n",
      "24\n",
      "27\n",
      "30\n"
     ]
    }
   ],
   "source": [
    "for i in range (1,31):\n",
    "    if i % 3==0:\n",
    "        print(i)"
   ]
  },
  {
   "cell_type": "code",
   "execution_count": 40,
   "id": "804d33fa-d36e-4feb-815d-4dd53e08608c",
   "metadata": {},
   "outputs": [
    {
     "name": "stdout",
     "output_type": "stream",
     "text": [
      "15\n",
      "30\n",
      "45\n"
     ]
    }
   ],
   "source": [
    "for i in range(1,51):\n",
    "    if i%3==0 and i%5==0 :\n",
    "        print(i)"
   ]
  },
  {
   "cell_type": "code",
   "execution_count": null,
   "id": "4284301e-9516-4050-8223-d3d073a037e5",
   "metadata": {},
   "outputs": [],
   "source": []
  },
  {
   "cell_type": "code",
   "execution_count": null,
   "id": "eea37ab6-e79b-4edb-ba95-cbaee32b556b",
   "metadata": {},
   "outputs": [],
   "source": []
  },
  {
   "cell_type": "code",
   "execution_count": null,
   "id": "41cd77ca-896f-4aa0-b11d-7af006d888f3",
   "metadata": {},
   "outputs": [],
   "source": []
  },
  {
   "cell_type": "code",
   "execution_count": null,
   "id": "b1fa0c77-85f8-469c-818d-72aacc17ed6e",
   "metadata": {},
   "outputs": [],
   "source": []
  },
  {
   "cell_type": "code",
   "execution_count": null,
   "id": "1c28d875-278a-43fe-82e6-5e95148d86d6",
   "metadata": {},
   "outputs": [],
   "source": []
  }
 ],
 "metadata": {
  "kernelspec": {
   "display_name": "Python [conda env:anaconda 1]",
   "language": "python",
   "name": "conda-env-anaconda_1-py"
  },
  "language_info": {
   "codemirror_mode": {
    "name": "ipython",
    "version": 3
   },
   "file_extension": ".py",
   "mimetype": "text/x-python",
   "name": "python",
   "nbconvert_exporter": "python",
   "pygments_lexer": "ipython3",
   "version": "3.13.5"
  }
 },
 "nbformat": 4,
 "nbformat_minor": 5
}
