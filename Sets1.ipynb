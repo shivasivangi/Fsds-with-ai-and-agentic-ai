{
  "nbformat": 4,
  "nbformat_minor": 0,
  "metadata": {
    "colab": {
      "provenance": [],
      "authorship_tag": "ABX9TyNZj4qNd3Bcv0wNwe0x6Rg8",
      "include_colab_link": true
    },
    "kernelspec": {
      "name": "python3",
      "display_name": "Python 3"
    },
    "language_info": {
      "name": "python"
    }
  },
  "cells": [
    {
      "cell_type": "markdown",
      "metadata": {
        "id": "view-in-github",
        "colab_type": "text"
      },
      "source": [
        "<a href=\"https://colab.research.google.com/github/shivasivangi/Fsds-with-ai-and-agentic-ai/blob/main/Sets1.ipynb\" target=\"_parent\"><img src=\"https://colab.research.google.com/assets/colab-badge.svg\" alt=\"Open In Colab\"/></a>"
      ]
    },
    {
      "cell_type": "code",
      "execution_count": null,
      "metadata": {
        "colab": {
          "base_uri": "https://localhost:8080/"
        },
        "id": "1q2fV1hB4HiB",
        "outputId": "ee6a0422-2418-4845-9e41-4c6a569676a0"
      },
      "outputs": [
        {
          "output_type": "execute_result",
          "data": {
            "text/plain": [
              "set"
            ]
          },
          "metadata": {},
          "execution_count": 4
        }
      ],
      "source": [
        "s1=set()\n",
        "type(s1)"
      ]
    },
    {
      "cell_type": "code",
      "source": [
        "s1.add(20)\n",
        "print(s1)"
      ],
      "metadata": {
        "colab": {
          "base_uri": "https://localhost:8080/"
        },
        "id": "qT3gphGG4lxM",
        "outputId": "4ebc2417-8b93-4cdf-8fdf-7fe4d6f6f608"
      },
      "execution_count": null,
      "outputs": [
        {
          "output_type": "stream",
          "name": "stdout",
          "text": [
            "{20}\n"
          ]
        }
      ]
    },
    {
      "cell_type": "code",
      "source": [
        "s1.add(20)\n",
        "s1.add(79)\n",
        "s1.add(86)\n",
        "s1.add(67)\n",
        "print(s1)"
      ],
      "metadata": {
        "colab": {
          "base_uri": "https://localhost:8080/"
        },
        "id": "cRrAUXDl4qKB",
        "outputId": "5c5f9be8-c970-415d-d10d-1c69c4d39c21"
      },
      "execution_count": null,
      "outputs": [
        {
          "output_type": "stream",
          "name": "stdout",
          "text": [
            "{67, 20, 86, 79}\n"
          ]
        }
      ]
    },
    {
      "cell_type": "code",
      "source": [
        "s1.add('nit')\n",
        "s1.add(2.4)\n",
        "s1.add(1+2j)\n",
        "print(s1)#takes all data types"
      ],
      "metadata": {
        "colab": {
          "base_uri": "https://localhost:8080/"
        },
        "id": "hlroBG_n47RJ",
        "outputId": "97bf0a9b-7176-4079-8001-a553178038c2"
      },
      "execution_count": null,
      "outputs": [
        {
          "output_type": "stream",
          "name": "stdout",
          "text": [
            "{2.4, 67, (1+2j), 79, 20, 86, 'nit'}\n"
          ]
        }
      ]
    },
    {
      "cell_type": "code",
      "source": [
        "s2=s1.copy()# copy function\n",
        "print(s2)"
      ],
      "metadata": {
        "colab": {
          "base_uri": "https://localhost:8080/"
        },
        "id": "4Naccj9d5Md9",
        "outputId": "9cb940b8-75be-4553-b8b9-15d663dd8bb5"
      },
      "execution_count": null,
      "outputs": [
        {
          "output_type": "stream",
          "name": "stdout",
          "text": [
            "{2.4, 67, 20, 86, (1+2j), 'nit', 79}\n"
          ]
        }
      ]
    },
    {
      "cell_type": "code",
      "source": [
        "s2.clear()# clear function\n",
        "print(s2)"
      ],
      "metadata": {
        "colab": {
          "base_uri": "https://localhost:8080/"
        },
        "id": "ByIfChaJ5UzO",
        "outputId": "bfe7a10c-f582-4289-d84d-a142a874b26b"
      },
      "execution_count": null,
      "outputs": [
        {
          "output_type": "stream",
          "name": "stdout",
          "text": [
            "set()\n"
          ]
        }
      ]
    },
    {
      "cell_type": "code",
      "source": [
        "s1={12,67,89,90,87}#remove finction\n",
        "s1.remove(12)\n",
        "print(s1)"
      ],
      "metadata": {
        "colab": {
          "base_uri": "https://localhost:8080/"
        },
        "id": "bZBGjDxu5jQv",
        "outputId": "b485b781-c659-4751-ffca-12cd232c27bb"
      },
      "execution_count": null,
      "outputs": [
        {
          "output_type": "stream",
          "name": "stdout",
          "text": [
            "{67, 87, 89, 90}\n"
          ]
        }
      ]
    },
    {
      "cell_type": "code",
      "source": [
        "s1.pop()#pop function\n",
        "print(s1)"
      ],
      "metadata": {
        "colab": {
          "base_uri": "https://localhost:8080/"
        },
        "id": "42CNzN5E5354",
        "outputId": "3ddee9a8-1820-4a62-ad58-6d26d10598e7"
      },
      "execution_count": null,
      "outputs": [
        {
          "output_type": "stream",
          "name": "stdout",
          "text": [
            "{87, 89, 90}\n"
          ]
        }
      ]
    },
    {
      "cell_type": "code",
      "source": [
        "for i in s1:\n",
        "   print(s1)"
      ],
      "metadata": {
        "colab": {
          "base_uri": "https://localhost:8080/"
        },
        "id": "CccOvGKd6HZF",
        "outputId": "f86aa70e-0f50-49a5-9c20-4151a026b790"
      },
      "execution_count": null,
      "outputs": [
        {
          "output_type": "stream",
          "name": "stdout",
          "text": [
            "{87, 89, 90}\n",
            "{87, 89, 90}\n",
            "{87, 89, 90}\n"
          ]
        }
      ]
    },
    {
      "cell_type": "code",
      "source": [
        "s1={1,2,3,4,5} # union function\n",
        "s2={4,5,6,7,8}\n",
        "s3={8,9,10}\n",
        "s1.union(s2)"
      ],
      "metadata": {
        "colab": {
          "base_uri": "https://localhost:8080/"
        },
        "id": "MGAZrvWn6rYR",
        "outputId": "e0146045-587d-47a7-f56b-a16c387cbaff"
      },
      "execution_count": null,
      "outputs": [
        {
          "output_type": "execute_result",
          "data": {
            "text/plain": [
              "{1, 2, 3, 4, 5, 6, 7, 8}"
            ]
          },
          "metadata": {},
          "execution_count": 27
        }
      ]
    },
    {
      "cell_type": "code",
      "source": [
        "s1.union(s3)"
      ],
      "metadata": {
        "colab": {
          "base_uri": "https://localhost:8080/"
        },
        "id": "gl2no1yA7F_R",
        "outputId": "5176c163-e156-486f-83ff-e5683e7f2103"
      },
      "execution_count": null,
      "outputs": [
        {
          "output_type": "execute_result",
          "data": {
            "text/plain": [
              "{1, 2, 3, 4, 5, 8, 9, 10}"
            ]
          },
          "metadata": {},
          "execution_count": 24
        }
      ]
    },
    {
      "cell_type": "code",
      "source": [
        "s3.union(s1)"
      ],
      "metadata": {
        "colab": {
          "base_uri": "https://localhost:8080/"
        },
        "id": "ZW3vEe-R7JLc",
        "outputId": "e7247b47-bffd-48c8-f39c-20bea8a3a8f3"
      },
      "execution_count": null,
      "outputs": [
        {
          "output_type": "execute_result",
          "data": {
            "text/plain": [
              "{1, 2, 3, 4, 5, 8, 9, 10}"
            ]
          },
          "metadata": {},
          "execution_count": 25
        }
      ]
    }
  ]
}