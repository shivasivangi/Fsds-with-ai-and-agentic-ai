{
  "nbformat": 4,
  "nbformat_minor": 0,
  "metadata": {
    "colab": {
      "provenance": [],
      "authorship_tag": "ABX9TyP3M+yd5V6d4wT5Gfl60mgo",
      "include_colab_link": true
    },
    "kernelspec": {
      "name": "python3",
      "display_name": "Python 3"
    },
    "language_info": {
      "name": "python"
    }
  },
  "cells": [
    {
      "cell_type": "markdown",
      "metadata": {
        "id": "view-in-github",
        "colab_type": "text"
      },
      "source": [
        "<a href=\"https://colab.research.google.com/github/shivasivangi/Fsds-with-ai-and-agentic-ai/blob/main/Slicing_and_indexing.ipynb\" target=\"_parent\"><img src=\"https://colab.research.google.com/assets/colab-badge.svg\" alt=\"Open In Colab\"/></a>"
      ]
    },
    {
      "cell_type": "code",
      "execution_count": 1,
      "metadata": {
        "id": "ZgRVsjBXDrUO"
      },
      "outputs": [],
      "source": [
        "p=90\n",
        "r=90\n",
        "s=90"
      ]
    },
    {
      "cell_type": "code",
      "source": [
        "p=s=r=9020"
      ],
      "metadata": {
        "id": "lFG6Gu-dEJu7"
      },
      "execution_count": 2,
      "outputs": []
    },
    {
      "cell_type": "code",
      "source": [
        "p,q,r=80"
      ],
      "metadata": {
        "colab": {
          "base_uri": "https://localhost:8080/",
          "height": 228
        },
        "id": "IK3X6KoLEQnb",
        "outputId": "f061cf3f-1959-43a5-c89b-62cbec115280"
      },
      "execution_count": 3,
      "outputs": [
        {
          "output_type": "error",
          "ename": "TypeError",
          "evalue": "cannot unpack non-iterable int object",
          "traceback": [
            "\u001b[0;31m---------------------------------------------------------------------------\u001b[0m",
            "\u001b[0;31mTypeError\u001b[0m                                 Traceback (most recent call last)",
            "\u001b[0;32m/tmp/ipython-input-3-2512636048.py\u001b[0m in \u001b[0;36m<cell line: 0>\u001b[0;34m()\u001b[0m\n\u001b[0;32m----> 1\u001b[0;31m \u001b[0mp\u001b[0m\u001b[0;34m,\u001b[0m\u001b[0mq\u001b[0m\u001b[0;34m,\u001b[0m\u001b[0mr\u001b[0m\u001b[0;34m=\u001b[0m\u001b[0;36m80\u001b[0m\u001b[0;34m\u001b[0m\u001b[0;34m\u001b[0m\u001b[0m\n\u001b[0m",
            "\u001b[0;31mTypeError\u001b[0m: cannot unpack non-iterable int object"
          ]
        }
      ]
    },
    {
      "cell_type": "code",
      "source": [
        "p,q,r=20,30,40\n",
        "print(p)\n",
        "print(q)\n",
        "print(r)"
      ],
      "metadata": {
        "colab": {
          "base_uri": "https://localhost:8080/"
        },
        "id": "j3xiSz2tEVw6",
        "outputId": "3c2cda38-425d-48a2-b3c8-df912c650f59"
      },
      "execution_count": 5,
      "outputs": [
        {
          "output_type": "stream",
          "name": "stdout",
          "text": [
            "20\n",
            "30\n",
            "40\n"
          ]
        }
      ]
    },
    {
      "cell_type": "code",
      "source": [
        "course=\"data science with ai\"\n",
        "print(course[:2])\n",
        "print(course[7:])\n",
        "print(course[2:5])"
      ],
      "metadata": {
        "colab": {
          "base_uri": "https://localhost:8080/"
        },
        "id": "Uz9f0CRyEnAS",
        "outputId": "1e75ae1d-c319-401b-b279-6ead729c25c5"
      },
      "execution_count": 6,
      "outputs": [
        {
          "output_type": "stream",
          "name": "stdout",
          "text": [
            "da\n",
            "ience with ai\n",
            "ta \n"
          ]
        }
      ]
    },
    {
      "cell_type": "code",
      "source": [
        "name=\"shiva\"\n",
        "print(name[:])\n",
        "print(name[:1])\n",
        "print(name[:-1])"
      ],
      "metadata": {
        "colab": {
          "base_uri": "https://localhost:8080/"
        },
        "id": "W2zmXajOFBri",
        "outputId": "37d49e9f-03b9-45c1-f518-949e4ac2e017"
      },
      "execution_count": 7,
      "outputs": [
        {
          "output_type": "stream",
          "name": "stdout",
          "text": [
            "shiva\n",
            "s\n",
            "shiv\n"
          ]
        }
      ]
    },
    {
      "cell_type": "code",
      "source": [
        "str=\"i can learn it\"\n",
        "print(str[::-1])\n",
        "print(str[:2])"
      ],
      "metadata": {
        "colab": {
          "base_uri": "https://localhost:8080/"
        },
        "id": "hTHUrfjkFgJY",
        "outputId": "fcb7c472-dcf9-4081-f0a8-4e5a437d6ccc"
      },
      "execution_count": 9,
      "outputs": [
        {
          "output_type": "stream",
          "name": "stdout",
          "text": [
            "ti nrael nac i\n",
            "i \n"
          ]
        }
      ]
    },
    {
      "cell_type": "code",
      "source": [
        "word=\"do it before die\"\n",
        "print(word[2:4])\n",
        "print(word[8:])"
      ],
      "metadata": {
        "colab": {
          "base_uri": "https://localhost:8080/"
        },
        "id": "F6KJ17b2F6q-",
        "outputId": "0838ae41-2fd5-4f1e-8c7e-055b35b974f3"
      },
      "execution_count": 10,
      "outputs": [
        {
          "output_type": "stream",
          "name": "stdout",
          "text": [
            " i\n",
            "fore die\n"
          ]
        }
      ]
    },
    {
      "cell_type": "code",
      "source": [
        "name=\"markram\"\n",
        "print(name*3)"
      ],
      "metadata": {
        "colab": {
          "base_uri": "https://localhost:8080/"
        },
        "id": "zdJIcfm9GrDV",
        "outputId": "158beefe-7832-42a5-ba09-262a7d829afa"
      },
      "execution_count": 12,
      "outputs": [
        {
          "output_type": "stream",
          "name": "stdout",
          "text": [
            "markrammarkrammarkram\n"
          ]
        }
      ]
    },
    {
      "cell_type": "code",
      "source": [],
      "metadata": {
        "id": "kuVLrlLQG1Ib"
      },
      "execution_count": null,
      "outputs": []
    },
    {
      "cell_type": "code",
      "source": [
        "str=\"shiva\"\n",
        "str1=\"shankar\"\n",
        "str2=str+str1\n",
        "print(str2)"
      ],
      "metadata": {
        "colab": {
          "base_uri": "https://localhost:8080/"
        },
        "id": "fCMlXV7MGZ6F",
        "outputId": "c99eed7a-2d29-4dc7-da85-f8ec7f402a83"
      },
      "execution_count": 11,
      "outputs": [
        {
          "output_type": "stream",
          "name": "stdout",
          "text": [
            "shivashankar\n"
          ]
        }
      ]
    }
  ]
}