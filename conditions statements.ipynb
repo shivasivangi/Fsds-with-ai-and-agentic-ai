{
 "cells": [
  {
   "cell_type": "code",
   "execution_count": 1,
   "id": "43937c10-2055-4b35-a652-835b7c7552b0",
   "metadata": {},
   "outputs": [
    {
     "name": "stdout",
     "output_type": "stream",
     "text": [
      "eligible for vote\n"
     ]
    }
   ],
   "source": [
    "age=20\n",
    "if age >= 18:\n",
    "    print(\"eligible for vote\")"
   ]
  },
  {
   "cell_type": "code",
   "execution_count": 2,
   "id": "85e8dfc8-45f2-49de-879b-58c6d81e0e49",
   "metadata": {},
   "outputs": [
    {
     "name": "stdout",
     "output_type": "stream",
     "text": [
      " not eligible for vote\n"
     ]
    }
   ],
   "source": [
    "age=17\n",
    "if age <= 18:\n",
    "    print(\" not eligible for vote\")"
   ]
  },
  {
   "cell_type": "code",
   "execution_count": 3,
   "id": "daca7d4a-14a8-4da3-9b08-f9124a000ea0",
   "metadata": {},
   "outputs": [
    {
     "name": "stdout",
     "output_type": "stream",
     "text": [
      "eligible for vote\n"
     ]
    }
   ],
   "source": [
    "age=19  ### short hand if\n",
    "if age> 18: print(\"eligible for vote\")"
   ]
  },
  {
   "cell_type": "code",
   "execution_count": null,
   "id": "9980af7a-7de3-466d-8f87-53023c453451",
   "metadata": {},
   "outputs": [],
   "source": [
    "#### else condition"
   ]
  },
  {
   "cell_type": "code",
   "execution_count": 5,
   "id": "40090b9b-9cde-43b1-9565-d18b59f85aca",
   "metadata": {},
   "outputs": [
    {
     "name": "stdout",
     "output_type": "stream",
     "text": [
      "travel for free\n"
     ]
    }
   ],
   "source": [
    "age=10\n",
    "if age<=12:\n",
    "    print(\"travel for free\")\n",
    "else:\n",
    "    print(\"pay for ticket\")"
   ]
  },
  {
   "cell_type": "code",
   "execution_count": 6,
   "id": "c3f8db86-6db2-4436-98c3-3278e9534f84",
   "metadata": {},
   "outputs": [
    {
     "name": "stdout",
     "output_type": "stream",
     "text": [
      "pay for ticket\n"
     ]
    }
   ],
   "source": [
    "age=13\n",
    "if age<=12:\n",
    "    print(\"travel for free\")\n",
    "else:\n",
    "    print(\"pay for ticket\")"
   ]
  },
  {
   "cell_type": "code",
   "execution_count": 7,
   "id": "6434788d-7bde-4c29-9029-95cba724486f",
   "metadata": {},
   "outputs": [],
   "source": [
    "### elif statement \n"
   ]
  },
  {
   "cell_type": "code",
   "execution_count": 8,
   "id": "08da78cb-97e9-408c-b609-5603004fd1fc",
   "metadata": {},
   "outputs": [
    {
     "name": "stdout",
     "output_type": "stream",
     "text": [
      "young adult\n"
     ]
    }
   ],
   "source": [
    "age=25\n",
    "if age <=12:\n",
    "    print(\"child\")\n",
    "elif age <= 19:\n",
    "    print(\"teenager\")\n",
    "elif age <=35:\n",
    "    print(\"young adult\")\n",
    "else:\n",
    "    print(\"adult\")"
   ]
  },
  {
   "cell_type": "code",
   "execution_count": 9,
   "id": "38d5ae50-5c37-4272-8f8c-32b528ce5b9e",
   "metadata": {},
   "outputs": [
    {
     "name": "stdout",
     "output_type": "stream",
     "text": [
      "child\n"
     ]
    }
   ],
   "source": [
    "age=12\n",
    "if age <=12:\n",
    "    print(\"child\")\n",
    "elif age <= 19:\n",
    "    print(\"teenager\")\n",
    "elif age <=35:\n",
    "    print(\"young adult\")\n",
    "else:\n",
    "    print(\"adult\")"
   ]
  },
  {
   "cell_type": "code",
   "execution_count": 10,
   "id": "6a039be7-a13d-4e1c-925c-4e20024dd10a",
   "metadata": {},
   "outputs": [],
   "source": [
    "### number is postive or negative"
   ]
  },
  {
   "cell_type": "code",
   "execution_count": 11,
   "id": "fec61d28-f97e-481a-81fe-edc8b4871bb1",
   "metadata": {},
   "outputs": [
    {
     "name": "stdin",
     "output_type": "stream",
     "text": [
      "enter the number: 32\n"
     ]
    },
    {
     "name": "stdout",
     "output_type": "stream",
     "text": [
      "poistive\n"
     ]
    }
   ],
   "source": [
    "### num=int(input(\"enter the number:\"))\n",
    "if num > 0 :\n",
    "    print(\"poistive\")\n",
    "elif num < 0 :\n",
    "    print(\"negative\")\n",
    "else:\n",
    "    print(\"zero\")\n"
   ]
  },
  {
   "cell_type": "code",
   "execution_count": 12,
   "id": "2d23405e-391f-4cbe-a9cf-e526f7fbed64",
   "metadata": {},
   "outputs": [
    {
     "name": "stdin",
     "output_type": "stream",
     "text": [
      "enter the number: 65\n"
     ]
    },
    {
     "name": "stdout",
     "output_type": "stream",
     "text": [
      "poistive\n"
     ]
    }
   ],
   "source": [
    "num=int(input(\"enter the number:\"))\n",
    "if num > 0 :\n",
    "    print(\"poistive\")\n",
    "elif num < 0 :\n",
    "    print(\"negative\")\n",
    "else:\n",
    "    print(\"zero\")"
   ]
  },
  {
   "cell_type": "code",
   "execution_count": null,
   "id": "fec6dad1-46dc-4273-9d35-604340a136ad",
   "metadata": {},
   "outputs": [],
   "source": [
    "## numis even or odd"
   ]
  },
  {
   "cell_type": "code",
   "execution_count": 13,
   "id": "7e137edf-b641-4c17-9f94-4272084cf7e0",
   "metadata": {},
   "outputs": [
    {
     "name": "stdin",
     "output_type": "stream",
     "text": [
      "enter the number: 25\n"
     ]
    },
    {
     "name": "stdout",
     "output_type": "stream",
     "text": [
      "odd number \n"
     ]
    }
   ],
   "source": [
    "num=int(input(\"enter the number:\"))\n",
    "if num % 2 == 0:\n",
    "    print(\" even number \")\n",
    "else:\n",
    "    print(\"odd number \")"
   ]
  },
  {
   "cell_type": "code",
   "execution_count": null,
   "id": "88440c2f-7867-47ed-af5c-82ad3879baf4",
   "metadata": {},
   "outputs": [],
   "source": [
    "### palindrome "
   ]
  },
  {
   "cell_type": "code",
   "execution_count": 14,
   "id": "3b53b4d5-3579-4817-a140-10a9052102fb",
   "metadata": {},
   "outputs": [
    {
     "name": "stdin",
     "output_type": "stream",
     "text": [
      "enter the string: 231\n"
     ]
    },
    {
     "name": "stdout",
     "output_type": "stream",
     "text": [
      "not palindrome\n"
     ]
    }
   ],
   "source": [
    "text=input(\"enter the string:\")\n",
    "if text==text[::-1]:\n",
    "    print(\"palindrome\")\n",
    "else:\n",
    "    print(\"not palindrome\")"
   ]
  },
  {
   "cell_type": "code",
   "execution_count": 15,
   "id": "405e6eb2-9fe8-4174-8237-0dc73e222e2b",
   "metadata": {},
   "outputs": [
    {
     "name": "stdin",
     "output_type": "stream",
     "text": [
      "enter the string: 12321\n"
     ]
    },
    {
     "name": "stdout",
     "output_type": "stream",
     "text": [
      "palindrome\n"
     ]
    }
   ],
   "source": [
    "text=input(\"enter the string:\")\n",
    "if text==text[::-1]:\n",
    "    print(\"palindrome\")\n",
    "else:\n",
    "    print(\"not palindrome\")"
   ]
  },
  {
   "cell_type": "code",
   "execution_count": null,
   "id": "32562850-0d32-47d6-a11d-5c6cf84ec734",
   "metadata": {},
   "outputs": [],
   "source": [
    "# divisible by 3 or not "
   ]
  },
  {
   "cell_type": "code",
   "execution_count": 16,
   "id": "a09ecd1e-1b0a-4388-9929-ecf568534d07",
   "metadata": {},
   "outputs": [
    {
     "name": "stdin",
     "output_type": "stream",
     "text": [
      "enter the number: 303\n"
     ]
    },
    {
     "name": "stdout",
     "output_type": "stream",
     "text": [
      "divisible by 3\n"
     ]
    }
   ],
   "source": [
    "num=int(input(\"enter the number:\"))\n",
    "if num % 3 == 0:\n",
    "        print(\"divisible by 3\")\n",
    "else:\n",
    "    (\"not divisible by 3\")"
   ]
  },
  {
   "cell_type": "code",
   "execution_count": null,
   "id": "0d583175-5869-4c07-a443-9ae70c874386",
   "metadata": {},
   "outputs": [],
   "source": [
    "# divisible by 3  and 7"
   ]
  },
  {
   "cell_type": "code",
   "execution_count": 17,
   "id": "3a4728db-4af5-4098-8733-c61f8d9b813b",
   "metadata": {},
   "outputs": [
    {
     "name": "stdin",
     "output_type": "stream",
     "text": [
      "enter the number: 21\n"
     ]
    },
    {
     "name": "stdout",
     "output_type": "stream",
     "text": [
      "divisible 3 and 7\n"
     ]
    }
   ],
   "source": [
    "num=int(input(\"enter the number:\"))\n",
    "if num %3 == 0 and num % 7 == 0:\n",
    "    print(\"divisible 3 and 7\")\n",
    "else :\n",
    "    print(\"not divisible 3 and 7\")"
   ]
  },
  {
   "cell_type": "code",
   "execution_count": 18,
   "id": "146f016f-e07f-495b-91cc-01df2d50ec50",
   "metadata": {},
   "outputs": [
    {
     "name": "stdin",
     "output_type": "stream",
     "text": [
      "enter the number: 23\n"
     ]
    },
    {
     "name": "stdout",
     "output_type": "stream",
     "text": [
      "not divisible 3 and 7\n"
     ]
    }
   ],
   "source": [
    "num=int(input(\"enter the number:\"))\n",
    "if num %3 == 0 and num % 7 == 0:\n",
    "    print(\"divisible 3 and 7\")\n",
    "else :\n",
    "    print(\"not divisible 3 and 7\")"
   ]
  },
  {
   "cell_type": "code",
   "execution_count": null,
   "id": "f64005b9-836a-4c60-9428-aef0c190d0ed",
   "metadata": {},
   "outputs": [],
   "source": [
    "# prime number "
   ]
  },
  {
   "cell_type": "code",
   "execution_count": 33,
   "id": "43b9c9bf-7ead-4065-b81f-9a3bbd490f10",
   "metadata": {},
   "outputs": [
    {
     "ename": "IndentationError",
     "evalue": "unexpected indent (3407572306.py, line 6)",
     "output_type": "error",
     "traceback": [
      "\u001b[1;36m  Cell \u001b[1;32mIn[33], line 6\u001b[1;36m\u001b[0m\n\u001b[1;33m    break\u001b[0m\n\u001b[1;37m    ^\u001b[0m\n\u001b[1;31mIndentationError\u001b[0m\u001b[1;31m:\u001b[0m unexpected indent\n"
     ]
    }
   ],
   "source": [
    "num=int(input(\"enter the number:\"))\n",
    "if num > 1:\n",
    "    if i in range(2,num):\n",
    "        if num % i ==0:\n",
    "            print(\"not a prime number\")\n",
    "                break\n",
    "        else :\n",
    "            print(\"print prime number\")\n",
    "    else:\n",
    "        print(\"not a prime number\")"
   ]
  },
  {
   "cell_type": "code",
   "execution_count": null,
   "id": "deee808b-ebc8-4caf-b00c-9ed8c443b7f4",
   "metadata": {},
   "outputs": [],
   "source": [
    "# factorial"
   ]
  },
  {
   "cell_type": "code",
   "execution_count": 35,
   "id": "707efcd3-bd7d-42e0-9118-48447b60daae",
   "metadata": {},
   "outputs": [
    {
     "name": "stdin",
     "output_type": "stream",
     "text": [
      "enter the number: 12\n"
     ]
    },
    {
     "name": "stdout",
     "output_type": "stream",
     "text": [
      "factorial: 479001600\n"
     ]
    }
   ],
   "source": [
    "num=int(input(\"enter the number:\"))\n",
    "factorial=1\n",
    "for i in range(1,num+1):\n",
    "    factorial*=i\n",
    "print(\"factorial:\",factorial)\n"
   ]
  },
  {
   "cell_type": "code",
   "execution_count": null,
   "id": "2bc556b0-b5ef-4a55-b1c5-1164a2edc58d",
   "metadata": {},
   "outputs": [],
   "source": [
    "# perfect square "
   ]
  },
  {
   "cell_type": "code",
   "execution_count": 36,
   "id": "16474f17-42b5-49fa-875f-0c22d4a04501",
   "metadata": {},
   "outputs": [
    {
     "name": "stdin",
     "output_type": "stream",
     "text": [
      "enter the number: 36\n"
     ]
    },
    {
     "name": "stdout",
     "output_type": "stream",
     "text": [
      "perfect number\n"
     ]
    }
   ],
   "source": [
    "import math\n",
    "num=int(input(\"enter the number:\"))\n",
    "if math.isqrt(num)**2==num:\n",
    "    print(\"perfect number\")  \n",
    "else:\n",
    "      print(\" not perfect number\")"
   ]
  },
  {
   "cell_type": "code",
   "execution_count": 37,
   "id": "a34dea03-c681-4174-885e-62909bcca854",
   "metadata": {},
   "outputs": [
    {
     "name": "stdin",
     "output_type": "stream",
     "text": [
      "enter the number: 32\n"
     ]
    },
    {
     "name": "stdout",
     "output_type": "stream",
     "text": [
      " not perfect number\n"
     ]
    }
   ],
   "source": [
    "import math\n",
    "num=int(input(\"enter the number:\"))\n",
    "if math.isqrt(num)**2==num:\n",
    "    print(\"perfect number\")  \n",
    "else:\n",
    "      print(\" not perfect number\")"
   ]
  },
  {
   "cell_type": "code",
   "execution_count": null,
   "id": "ee3bae9c-b666-4a34-8321-8fb1a3e6f078",
   "metadata": {},
   "outputs": [],
   "source": [
    "#leap year or not"
   ]
  },
  {
   "cell_type": "code",
   "execution_count": 45,
   "id": "38593cec-9765-4ebb-a352-f0b66b0dc1f9",
   "metadata": {},
   "outputs": [
    {
     "name": "stdin",
     "output_type": "stream",
     "text": [
      "enter the year: 2025\n"
     ]
    },
    {
     "name": "stdout",
     "output_type": "stream",
     "text": [
      "not leap year\n"
     ]
    }
   ],
   "source": [
    "year=int(input(\"enter the year:\"))\n",
    "if (year % 4 == 0 and year % 100 !=0) or ( year % 400 == 0):\n",
    "    print(\"leap year\")\n",
    "else :\n",
    "    print(\"not leap year\")"
   ]
  },
  {
   "cell_type": "code",
   "execution_count": null,
   "id": "cc688dde-bc8b-43c6-a8c0-a7a7baeb2380",
   "metadata": {},
   "outputs": [],
   "source": []
  },
  {
   "cell_type": "code",
   "execution_count": null,
   "id": "8dc12280-6258-47b0-93a0-641020d16a6a",
   "metadata": {},
   "outputs": [],
   "source": []
  },
  {
   "cell_type": "code",
   "execution_count": null,
   "id": "fba82d53-ded2-4a80-942f-0857f3216924",
   "metadata": {},
   "outputs": [],
   "source": []
  },
  {
   "cell_type": "code",
   "execution_count": null,
   "id": "3959b8e5-7eec-4717-b1aa-fab72ace9e3f",
   "metadata": {},
   "outputs": [],
   "source": []
  },
  {
   "cell_type": "code",
   "execution_count": null,
   "id": "17caade3-e88c-4b94-9ed9-0382af52b7a2",
   "metadata": {},
   "outputs": [],
   "source": []
  }
 ],
 "metadata": {
  "kernelspec": {
   "display_name": "Python [conda env:anaconda 1]",
   "language": "python",
   "name": "conda-env-anaconda_1-py"
  },
  "language_info": {
   "codemirror_mode": {
    "name": "ipython",
    "version": 3
   },
   "file_extension": ".py",
   "mimetype": "text/x-python",
   "name": "python",
   "nbconvert_exporter": "python",
   "pygments_lexer": "ipython3",
   "version": "3.13.5"
  }
 },
 "nbformat": 4,
 "nbformat_minor": 5
}
