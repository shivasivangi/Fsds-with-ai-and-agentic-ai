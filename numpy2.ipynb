{
 "cells": [
  {
   "cell_type": "code",
   "execution_count": 2,
   "id": "041cb17e-80e5-4199-8d28-554f3664e18a",
   "metadata": {},
   "outputs": [
    {
     "data": {
      "text/plain": [
       "array([1, 2, 3])"
      ]
     },
     "execution_count": 2,
     "metadata": {},
     "output_type": "execute_result"
    }
   ],
   "source": [
    "import numpy as np\n",
    "a=np.array([1,2,3])\n",
    "a\n"
   ]
  },
  {
   "cell_type": "code",
   "execution_count": 3,
   "id": "2b0e811e-c34e-444a-a69a-6ed51bbd44d8",
   "metadata": {},
   "outputs": [
    {
     "data": {
      "text/plain": [
       "array([0., 0.])"
      ]
     },
     "execution_count": 3,
     "metadata": {},
     "output_type": "execute_result"
    }
   ],
   "source": [
    "np.zeros(2)\n"
   ]
  },
  {
   "cell_type": "code",
   "execution_count": 4,
   "id": "b17bbfff-b98a-4501-871c-8d75db01d219",
   "metadata": {},
   "outputs": [
    {
     "data": {
      "text/plain": [
       "array([1., 1.])"
      ]
     },
     "execution_count": 4,
     "metadata": {},
     "output_type": "execute_result"
    }
   ],
   "source": [
    "np.ones(2)"
   ]
  },
  {
   "cell_type": "code",
   "execution_count": 6,
   "id": "353d4301-1d92-485f-b3b5-1b0c1d59d88f",
   "metadata": {},
   "outputs": [
    {
     "data": {
      "text/plain": [
       "array([1, 1])"
      ]
     },
     "execution_count": 6,
     "metadata": {},
     "output_type": "execute_result"
    }
   ],
   "source": [
    "np.ones(2,dtype=int)\n",
    "\n"
   ]
  },
  {
   "cell_type": "code",
   "execution_count": 8,
   "id": "7ea526cf-8f26-431d-a600-efaedd47acf8",
   "metadata": {},
   "outputs": [
    {
     "data": {
      "text/plain": [
       "array([2, 4, 6, 8])"
      ]
     },
     "execution_count": 8,
     "metadata": {},
     "output_type": "execute_result"
    }
   ],
   "source": [
    "np.arange(2,9,2)"
   ]
  },
  {
   "cell_type": "code",
   "execution_count": 9,
   "id": "a3304171-340d-4c8e-bfcb-7bd4dca132fa",
   "metadata": {},
   "outputs": [
    {
     "data": {
      "text/plain": [
       "array([ 0. ,  2.5,  5. ,  7.5, 10. ])"
      ]
     },
     "execution_count": 9,
     "metadata": {},
     "output_type": "execute_result"
    }
   ],
   "source": [
    "np.linspace(0,10,num=5)"
   ]
  },
  {
   "cell_type": "code",
   "execution_count": 11,
   "id": "ad464dea-ea63-4181-9649-22586a7deb0d",
   "metadata": {},
   "outputs": [
    {
     "data": {
      "text/plain": [
       "array([0, 1, 2, 3, 4, 9])"
      ]
     },
     "execution_count": 11,
     "metadata": {},
     "output_type": "execute_result"
    }
   ],
   "source": [
    "arr=np.array([2,4,3,1,0,9])\n",
    "np.sort(arr)"
   ]
  },
  {
   "cell_type": "code",
   "execution_count": 3,
   "id": "19008835-17c9-47d7-8262-108a65b9dab8",
   "metadata": {},
   "outputs": [
    {
     "data": {
      "text/plain": [
       "3"
      ]
     },
     "execution_count": 3,
     "metadata": {},
     "output_type": "execute_result"
    }
   ],
   "source": [
    "import numpy as np\n",
    "a=np.array([[[0,1,2,3],[4,5,6,7]]])\n",
    "a.ndim\n"
   ]
  },
  {
   "cell_type": "code",
   "execution_count": 5,
   "id": "3169adc7-db94-4ca0-b71f-3d32814c6ce7",
   "metadata": {},
   "outputs": [
    {
     "data": {
      "text/plain": [
       "8"
      ]
     },
     "execution_count": 5,
     "metadata": {},
     "output_type": "execute_result"
    }
   ],
   "source": [
    "a.size"
   ]
  },
  {
   "cell_type": "code",
   "execution_count": 6,
   "id": "51a545b8-82ec-4f1b-a8ad-1197ca09dc94",
   "metadata": {},
   "outputs": [
    {
     "data": {
      "text/plain": [
       "(1, 2, 4)"
      ]
     },
     "execution_count": 6,
     "metadata": {},
     "output_type": "execute_result"
    }
   ],
   "source": [
    "a.shape"
   ]
  },
  {
   "cell_type": "code",
   "execution_count": 7,
   "id": "eadf34cd-fc48-4f81-919a-5aeebbfe3f55",
   "metadata": {},
   "outputs": [
    {
     "name": "stdout",
     "output_type": "stream",
     "text": [
      "[0 1 2 3 4 5 6 7]\n"
     ]
    }
   ],
   "source": [
    "a=np.arange(8)\n",
    "print(a)"
   ]
  },
  {
   "cell_type": "code",
   "execution_count": 12,
   "id": "3be36be8-086a-46db-b631-3c835e146934",
   "metadata": {},
   "outputs": [
    {
     "data": {
      "text/plain": [
       "array([[0, 1],\n",
       "       [2, 3],\n",
       "       [4, 5],\n",
       "       [6, 7]])"
      ]
     },
     "execution_count": 12,
     "metadata": {},
     "output_type": "execute_result"
    }
   ],
   "source": [
    "b=a.reshape(4,2)\n",
    "b"
   ]
  },
  {
   "cell_type": "code",
   "execution_count": 14,
   "id": "e4ed2686-f3a5-4ae7-b8c5-7939131fd5b2",
   "metadata": {},
   "outputs": [
    {
     "data": {
      "text/plain": [
       "array([2, 3, 4, 5, 6])"
      ]
     },
     "execution_count": 14,
     "metadata": {},
     "output_type": "execute_result"
    }
   ],
   "source": [
    "a=np.arange(8)\n",
    "a[2:7]"
   ]
  },
  {
   "cell_type": "code",
   "execution_count": 15,
   "id": "92f8fc27-2d79-4265-ae62-00e8758ceb82",
   "metadata": {},
   "outputs": [
    {
     "data": {
      "text/plain": [
       "array([1, 2, 3, 4, 5, 6, 7])"
      ]
     },
     "execution_count": 15,
     "metadata": {},
     "output_type": "execute_result"
    }
   ],
   "source": [
    "a[1:]"
   ]
  },
  {
   "cell_type": "code",
   "execution_count": 16,
   "id": "4e3d2009-c148-48ea-b6a2-bae49e732656",
   "metadata": {},
   "outputs": [
    {
     "data": {
      "text/plain": [
       "array([0, 1, 2, 3, 4, 5, 6])"
      ]
     },
     "execution_count": 16,
     "metadata": {},
     "output_type": "execute_result"
    }
   ],
   "source": [
    "a[:-1]"
   ]
  },
  {
   "cell_type": "code",
   "execution_count": 17,
   "id": "71cfd903-4817-4bca-b0b4-58428f35d749",
   "metadata": {},
   "outputs": [],
   "source": [
    "import numpy as np"
   ]
  },
  {
   "cell_type": "code",
   "execution_count": 18,
   "id": "f1b075ff-7fa2-4982-b504-3727596e9786",
   "metadata": {},
   "outputs": [
    {
     "data": {
      "text/plain": [
       "array([2, 3])"
      ]
     },
     "execution_count": 18,
     "metadata": {},
     "output_type": "execute_result"
    }
   ],
   "source": [
    "d=np.array([1,2])\n",
    "ones=np.ones(2,dtype=int)\n",
    "d+ones"
   ]
  },
  {
   "cell_type": "code",
   "execution_count": 19,
   "id": "094aa88e-c693-4c51-8e2c-1f71a8d892ad",
   "metadata": {},
   "outputs": [
    {
     "data": {
      "text/plain": [
       "array([1, 2])"
      ]
     },
     "execution_count": 19,
     "metadata": {},
     "output_type": "execute_result"
    }
   ],
   "source": [
    "d*ones"
   ]
  },
  {
   "cell_type": "code",
   "execution_count": 20,
   "id": "84e6cccd-3c49-4cfa-89fe-afc8a48e0592",
   "metadata": {},
   "outputs": [
    {
     "data": {
      "text/plain": [
       "array([0, 1])"
      ]
     },
     "execution_count": 20,
     "metadata": {},
     "output_type": "execute_result"
    }
   ],
   "source": [
    "d-ones"
   ]
  },
  {
   "cell_type": "code",
   "execution_count": 21,
   "id": "16d620d5-5ca1-409b-a27f-ed38b0056018",
   "metadata": {},
   "outputs": [
    {
     "data": {
      "text/plain": [
       "array([1., 2.])"
      ]
     },
     "execution_count": 21,
     "metadata": {},
     "output_type": "execute_result"
    }
   ],
   "source": [
    "d/ones"
   ]
  },
  {
   "cell_type": "code",
   "execution_count": 23,
   "id": "46341cd3-81d6-48a6-a24b-7aa87b9cf1c9",
   "metadata": {},
   "outputs": [
    {
     "data": {
      "text/plain": [
       "array([[0.11601071, 0.69467762],\n",
       "       [0.82696811, 0.90768493],\n",
       "       [0.33467502, 0.13415503],\n",
       "       [0.76107429, 0.79836289]])"
      ]
     },
     "execution_count": 23,
     "metadata": {},
     "output_type": "execute_result"
    }
   ],
   "source": [
    "rand=np.random.rand(4,2)\n",
    "rand"
   ]
  },
  {
   "cell_type": "code",
   "execution_count": 25,
   "id": "4ed3c133-56e1-4494-b876-02b73680ca4a",
   "metadata": {},
   "outputs": [
    {
     "data": {
      "text/plain": [
       "1"
      ]
     },
     "execution_count": 25,
     "metadata": {},
     "output_type": "execute_result"
    }
   ],
   "source": [
    "np.random.randint(3)#random"
   ]
  },
  {
   "cell_type": "code",
   "execution_count": 31,
   "id": "cf10ae3c-ba4d-4d66-993e-c9997e1ad8fd",
   "metadata": {},
   "outputs": [
    {
     "data": {
      "text/plain": [
       "array([5.        , 4.93877551, 4.87755102, 4.81632653, 4.75510204,\n",
       "       4.69387755, 4.63265306, 4.57142857, 4.51020408, 4.44897959,\n",
       "       4.3877551 , 4.32653061, 4.26530612, 4.20408163, 4.14285714,\n",
       "       4.08163265, 4.02040816, 3.95918367, 3.89795918, 3.83673469,\n",
       "       3.7755102 , 3.71428571, 3.65306122, 3.59183673, 3.53061224,\n",
       "       3.46938776, 3.40816327, 3.34693878, 3.28571429, 3.2244898 ,\n",
       "       3.16326531, 3.10204082, 3.04081633, 2.97959184, 2.91836735,\n",
       "       2.85714286, 2.79591837, 2.73469388, 2.67346939, 2.6122449 ,\n",
       "       2.55102041, 2.48979592, 2.42857143, 2.36734694, 2.30612245,\n",
       "       2.24489796, 2.18367347, 2.12244898, 2.06122449, 2.        ])"
      ]
     },
     "execution_count": 31,
     "metadata": {},
     "output_type": "execute_result"
    }
   ],
   "source": [
    "l=np.linspace(5,2)#linspace\n",
    "l"
   ]
  },
  {
   "cell_type": "code",
   "execution_count": 36,
   "id": "4a28c268-a658-4de6-87c8-0b2b7e31835b",
   "metadata": {},
   "outputs": [
    {
     "data": {
      "text/plain": [
       "array([1, 2, 3, 4])"
      ]
     },
     "execution_count": 36,
     "metadata": {},
     "output_type": "execute_result"
    }
   ],
   "source": [
    "a=np.array([[1,2],[3,4]])# reshape and flatteem\n",
    "a.reshape((1,4))\n",
    "a.flatten()"
   ]
  },
  {
   "cell_type": "code",
   "execution_count": 40,
   "id": "e5688b33-a5d9-4c79-8f1f-c446ebf937f3",
   "metadata": {},
   "outputs": [
    {
     "name": "stdout",
     "output_type": "stream",
     "text": [
      "[5 7 9]\n",
      "[ 4 10 18]\n",
      "[ 2.71828183  7.3890561  20.08553692]\n",
      "[-3 -3 -3]\n"
     ]
    }
   ],
   "source": [
    "a=np.array([1,2,3])#math operations \n",
    "b=np.array([4,5,6])\n",
    "add=a+b\n",
    "mul=a*b\n",
    "sub=a-b\n",
    "exp=np.exp(a)\n",
    "print(add)\n",
    "print(mul)\n",
    "print(exp)\n",
    "print(sub)"
   ]
  },
  {
   "cell_type": "code",
   "execution_count": 41,
   "id": "512ec702-285b-4953-9b91-0dcc6a254694",
   "metadata": {},
   "outputs": [
    {
     "name": "stdout",
     "output_type": "stream",
     "text": [
      "3.5\n",
      "3.5\n",
      "1.707825127659933\n"
     ]
    }
   ],
   "source": [
    "d=np.array([[1,2,3],[4,5,6]])#stats operation\n",
    "mean=np.mean(d)\n",
    "median=np.median(d)\n",
    "std=np.std(d)\n",
    "print(mean)\n",
    "print(median)\n",
    "print(std)"
   ]
  },
  {
   "cell_type": "code",
   "execution_count": 43,
   "id": "cb1c0727-ab9c-40f7-b534-2d2d943c8268",
   "metadata": {},
   "outputs": [
    {
     "data": {
      "text/plain": [
       "array([False, False, False,  True,  True,  True])"
      ]
     },
     "execution_count": 43,
     "metadata": {},
     "output_type": "execute_result"
    }
   ],
   "source": [
    "d=np.array([1,2,3,4,5,6])\n",
    "mask=d>3\n",
    "mask"
   ]
  },
  {
   "cell_type": "code",
   "execution_count": 45,
   "id": "3faba5cd-666d-4461-a4dd-242495e03294",
   "metadata": {},
   "outputs": [
    {
     "data": {
      "text/plain": [
       "array([4, 5, 6])"
      ]
     },
     "execution_count": 45,
     "metadata": {},
     "output_type": "execute_result"
    }
   ],
   "source": [
    "filtered=d[mask]\n",
    "filtered"
   ]
  },
  {
   "cell_type": "code",
   "execution_count": 48,
   "id": "139411ba-838f-4f00-b340-6ebb0eb1026e",
   "metadata": {},
   "outputs": [
    {
     "data": {
      "text/plain": [
       "array([   0,    1,    2, ..., 6787, 6788, 6789])"
      ]
     },
     "execution_count": 48,
     "metadata": {},
     "output_type": "execute_result"
    }
   ],
   "source": [
    "a=np.arange(6790)\n",
    "a"
   ]
  },
  {
   "cell_type": "code",
   "execution_count": null,
   "id": "cfa847ab-e80f-4f1f-aa9c-af2177ff1da1",
   "metadata": {},
   "outputs": [],
   "source": []
  },
  {
   "cell_type": "code",
   "execution_count": null,
   "id": "e77ec9c5-bb89-4351-b6c4-e7c789f82d11",
   "metadata": {},
   "outputs": [],
   "source": []
  },
  {
   "cell_type": "code",
   "execution_count": null,
   "id": "ab2d2fd9-9ac3-49e5-98b6-45ff573ed139",
   "metadata": {},
   "outputs": [],
   "source": []
  },
  {
   "cell_type": "code",
   "execution_count": null,
   "id": "9a4c1326-c31d-4b00-8f69-e04b031c6b34",
   "metadata": {},
   "outputs": [],
   "source": []
  },
  {
   "cell_type": "code",
   "execution_count": null,
   "id": "8af83b0d-8ce9-4174-88ea-0e3cf3ba2212",
   "metadata": {},
   "outputs": [],
   "source": []
  },
  {
   "cell_type": "code",
   "execution_count": null,
   "id": "3d24eac7-0ed2-4114-a6b6-1f3c5a3ace7e",
   "metadata": {},
   "outputs": [],
   "source": []
  }
 ],
 "metadata": {
  "kernelspec": {
   "display_name": "Python [conda env:base] *",
   "language": "python",
   "name": "conda-base-py"
  },
  "language_info": {
   "codemirror_mode": {
    "name": "ipython",
    "version": 3
   },
   "file_extension": ".py",
   "mimetype": "text/x-python",
   "name": "python",
   "nbconvert_exporter": "python",
   "pygments_lexer": "ipython3",
   "version": "3.13.5"
  }
 },
 "nbformat": 4,
 "nbformat_minor": 5
}
