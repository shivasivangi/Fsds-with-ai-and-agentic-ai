{
  "nbformat": 4,
  "nbformat_minor": 0,
  "metadata": {
    "colab": {
      "provenance": [],
      "authorship_tag": "ABX9TyOiDmE1VKjad+9Z/kx1MexS",
      "include_colab_link": true
    },
    "kernelspec": {
      "name": "python3",
      "display_name": "Python 3"
    },
    "language_info": {
      "name": "python"
    }
  },
  "cells": [
    {
      "cell_type": "markdown",
      "metadata": {
        "id": "view-in-github",
        "colab_type": "text"
      },
      "source": [
        "<a href=\"https://colab.research.google.com/github/shivasivangi/Fsds-with-ai-and-agentic-ai/blob/main/List_functionsipynb.ipynb\" target=\"_parent\"><img src=\"https://colab.research.google.com/assets/colab-badge.svg\" alt=\"Open In Colab\"/></a>"
      ]
    },
    {
      "cell_type": "code",
      "execution_count": 1,
      "metadata": {
        "id": "r9YTQMafogIM"
      },
      "outputs": [],
      "source": [
        "l=[]"
      ]
    },
    {
      "cell_type": "code",
      "source": [
        "l=['shiva',18,20,64]"
      ],
      "metadata": {
        "id": "p1XwSO2AotXt"
      },
      "execution_count": 2,
      "outputs": []
    },
    {
      "cell_type": "code",
      "source": [
        "print(l)"
      ],
      "metadata": {
        "colab": {
          "base_uri": "https://localhost:8080/"
        },
        "id": "i5f1gXv-owXY",
        "outputId": "ed3ba1ea-c8eb-4555-ff4f-93e75355afdc"
      },
      "execution_count": 3,
      "outputs": [
        {
          "output_type": "stream",
          "name": "stdout",
          "text": [
            "['shiva', 18, 20, 64]\n"
          ]
        }
      ]
    },
    {
      "cell_type": "code",
      "source": [
        "l.append('ram')\n",
        "print(l)"
      ],
      "metadata": {
        "colab": {
          "base_uri": "https://localhost:8080/"
        },
        "id": "rO7x8-OAowbA",
        "outputId": "919cf908-9bb9-41d2-d6f8-47851b3183ac"
      },
      "execution_count": 6,
      "outputs": [
        {
          "output_type": "stream",
          "name": "stdout",
          "text": [
            "['shiva', 18, 20, 64, 'ram', 'ram', 'ram']\n"
          ]
        }
      ]
    },
    {
      "cell_type": "code",
      "source": [
        "l2=l\n",
        "print(l2)"
      ],
      "metadata": {
        "colab": {
          "base_uri": "https://localhost:8080/"
        },
        "id": "sEFNqCGKowdd",
        "outputId": "a6650bbb-15bf-4e3f-c6ca-d42c1c760af2"
      },
      "execution_count": 9,
      "outputs": [
        {
          "output_type": "stream",
          "name": "stdout",
          "text": [
            "['shiva', 18, 20, 64, 'ram', 'ram', 'ram']\n"
          ]
        }
      ]
    },
    {
      "cell_type": "code",
      "source": [
        "l2.count(20)"
      ],
      "metadata": {
        "colab": {
          "base_uri": "https://localhost:8080/"
        },
        "id": "ev-zUIaTpLvv",
        "outputId": "d7d7f403-12bb-4e62-a4a3-26d174684029"
      },
      "execution_count": 10,
      "outputs": [
        {
          "output_type": "execute_result",
          "data": {
            "text/plain": [
              "1"
            ]
          },
          "metadata": {},
          "execution_count": 10
        }
      ]
    },
    {
      "cell_type": "code",
      "source": [
        "list=[67,89,90,87,22,66,22,78,87,90]\n",
        "list.append(\"shiva\")\n",
        "print(list)"
      ],
      "metadata": {
        "colab": {
          "base_uri": "https://localhost:8080/"
        },
        "id": "bB_T-SqHpQaw",
        "outputId": "52043238-2b66-464f-b5f6-4c8382bdd556"
      },
      "execution_count": 13,
      "outputs": [
        {
          "output_type": "stream",
          "name": "stdout",
          "text": [
            "[67, 89, 90, 87, 22, 66, 22, 78, 87, 90, 'shiva']\n"
          ]
        }
      ]
    },
    {
      "cell_type": "code",
      "source": [
        "l6=list"
      ],
      "metadata": {
        "id": "6i2l2tYmpkKm"
      },
      "execution_count": 14,
      "outputs": []
    },
    {
      "cell_type": "code",
      "source": [
        "l6.count(22)"
      ],
      "metadata": {
        "colab": {
          "base_uri": "https://localhost:8080/"
        },
        "id": "Amn52jBVpn61",
        "outputId": "b171103b-424f-48be-e375-8f55f9138948"
      },
      "execution_count": 15,
      "outputs": [
        {
          "output_type": "execute_result",
          "data": {
            "text/plain": [
              "2"
            ]
          },
          "metadata": {},
          "execution_count": 15
        }
      ]
    },
    {
      "cell_type": "code",
      "source": [
        "l9=l6.copy()\n",
        "print(l9)"
      ],
      "metadata": {
        "colab": {
          "base_uri": "https://localhost:8080/"
        },
        "id": "hsNPEhfxptvf",
        "outputId": "0d680652-ea19-4a60-8725-75541b103005"
      },
      "execution_count": 19,
      "outputs": [
        {
          "output_type": "stream",
          "name": "stdout",
          "text": [
            "[67, 89, 90, 87, 22, 66, 22, 78, 87, 90, 'shiva']\n"
          ]
        }
      ]
    },
    {
      "cell_type": "code",
      "source": [
        "l9==l6"
      ],
      "metadata": {
        "colab": {
          "base_uri": "https://localhost:8080/"
        },
        "id": "TpihLdOIp7Up",
        "outputId": "f08b38c3-54f8-44d7-cd2c-d14cadb68e2b"
      },
      "execution_count": 20,
      "outputs": [
        {
          "output_type": "execute_result",
          "data": {
            "text/plain": [
              "True"
            ]
          },
          "metadata": {},
          "execution_count": 20
        }
      ]
    },
    {
      "cell_type": "code",
      "source": [
        "l9.clear()\n",
        "print(l9)"
      ],
      "metadata": {
        "colab": {
          "base_uri": "https://localhost:8080/"
        },
        "id": "WKCNmmG-p_VB",
        "outputId": "f4ddff36-62e7-4540-a8de-44a65b5b52e2"
      },
      "execution_count": 22,
      "outputs": [
        {
          "output_type": "stream",
          "name": "stdout",
          "text": [
            "[]\n"
          ]
        }
      ]
    },
    {
      "cell_type": "code",
      "source": [
        "l9.insert(2,888)\n",
        "print(l9)"
      ],
      "metadata": {
        "colab": {
          "base_uri": "https://localhost:8080/"
        },
        "id": "vVY2Rb7qqGjV",
        "outputId": "41337a40-41a0-493e-9b0c-10a78e5a32bb"
      },
      "execution_count": 24,
      "outputs": [
        {
          "output_type": "stream",
          "name": "stdout",
          "text": [
            "[888]\n"
          ]
        }
      ]
    },
    {
      "cell_type": "code",
      "source": [
        "l0=[77,66,99,88,55,44]\n",
        "l0.insert(2,00)\n",
        "print(l0)"
      ],
      "metadata": {
        "colab": {
          "base_uri": "https://localhost:8080/"
        },
        "id": "bI_FafURqR7C",
        "outputId": "25c278c7-445c-439b-9e59-8ff03378d710"
      },
      "execution_count": 27,
      "outputs": [
        {
          "output_type": "stream",
          "name": "stdout",
          "text": [
            "[77, 66, 0, 99, 88, 55, 44]\n"
          ]
        }
      ]
    },
    {
      "cell_type": "code",
      "source": [
        "id(l0)"
      ],
      "metadata": {
        "colab": {
          "base_uri": "https://localhost:8080/"
        },
        "id": "Ax2wqzibqiew",
        "outputId": "3b037bfe-7ff4-4a72-9ced-282e85c5f6fc"
      },
      "execution_count": 28,
      "outputs": [
        {
          "output_type": "execute_result",
          "data": {
            "text/plain": [
              "138325519586368"
            ]
          },
          "metadata": {},
          "execution_count": 28
        }
      ]
    },
    {
      "cell_type": "code",
      "source": [
        "l0.pop()"
      ],
      "metadata": {
        "colab": {
          "base_uri": "https://localhost:8080/"
        },
        "id": "d24v3dwGqs6n",
        "outputId": "954e3c10-c0f9-467a-975e-8e9324282480"
      },
      "execution_count": 29,
      "outputs": [
        {
          "output_type": "execute_result",
          "data": {
            "text/plain": [
              "44"
            ]
          },
          "metadata": {},
          "execution_count": 29
        }
      ]
    },
    {
      "cell_type": "code",
      "source": [
        "l11=[\"shiva\",87,98,90,1+2j]\n",
        "print(l11[0])\n",
        "print(l11[0][3])"
      ],
      "metadata": {
        "colab": {
          "base_uri": "https://localhost:8080/"
        },
        "id": "vFey_0QXqwyx",
        "outputId": "31894cd2-54c7-4c5f-dc69-b07b45a6463e"
      },
      "execution_count": 38,
      "outputs": [
        {
          "output_type": "stream",
          "name": "stdout",
          "text": [
            "shiva\n",
            "v\n"
          ]
        }
      ]
    },
    {
      "cell_type": "code",
      "source": [
        "l=[\"ram\",12,787,90,76,28,89]\n",
        "l.append(0)\n",
        "l.insert(2,89)\n",
        "l.count(89)\n",
        "print(l)"
      ],
      "metadata": {
        "colab": {
          "base_uri": "https://localhost:8080/"
        },
        "id": "M5_EUesdrqFh",
        "outputId": "c99bc9c7-5eec-4987-cfb4-00167413f008"
      },
      "execution_count": 41,
      "outputs": [
        {
          "output_type": "stream",
          "name": "stdout",
          "text": [
            "['ram', 12, 89, 787, 90, 76, 28, 89, 0]\n"
          ]
        }
      ]
    },
    {
      "cell_type": "code",
      "source": [],
      "metadata": {
        "id": "8Pf_3KiBsKfH"
      },
      "execution_count": null,
      "outputs": []
    },
    {
      "cell_type": "code",
      "source": [],
      "metadata": {
        "id": "7fSFYzWareIa"
      },
      "execution_count": null,
      "outputs": []
    }
  ]
}